{
 "cells": [
  {
   "cell_type": "markdown",
   "id": "153edcda-4088-4bb0-b6db-c4e7345377bf",
   "metadata": {},
   "source": [
    "Q1. How do you comment code in Python? What are the different types of comments?\n",
    "\n",
    "Ans: We use the # for Comments.\n",
    "we can also use the triple quotes(\"\"\"xxxxxxxxxxxxxxxx\"\") for multiline Comments.\n",
    "\n",
    "Types of Comments:\n",
    "There are three types of comments in Python:\n",
    "\r\n",
    "Single line Comment(use Singl #)\n",
    "\r\n",
    "Multiline Comment(Use # in every linets\r\n",
    "Docstring Comment(Use triple quotes """ )
   ]
  },
  {
   "cell_type": "markdown",
   "id": "6a1fc861-0000-4e3b-a2ca-c6f07462e00d",
   "metadata": {},
   "source": [
    "Q2. What are variables in Python? How do you declare and assign values to variables?\n",
    "\n",
    "Ans: We can use any alphabate, name or Word for makes the variable, it can be any thing rather than Numbers and Special character.\n",
    "It stores data values.\n",
    "We can assign variable by just only add any value Ex. A=12365\n",
    "Here we can declare variable 'A' and assign the value 12365."
   ]
  },
  {
   "cell_type": "code",
   "execution_count": null,
   "id": "ea08eaaf-7032-4750-a682-5c740ac63dad",
   "metadata": {},
   "outputs": [],
   "source": [
    "Q3. How do you convert one data type to another in Python?\n",
    "\n",
    "Ans: We can easily Convert the One data type to Other.\n",
    "There are two types of Data Conersion:\n",
    "1.Implicit Type Conversion -> Here Data type change automaticaly by Python.\n",
    "2.Explicit type conversion -> Here we change through Assign the variable and Firstly write Data type and then write the Value.\n",
    "EX. abc=52.2\n",
    "b=int(abc)"
   ]
  },
  {
   "cell_type": "code",
   "execution_count": null,
   "id": "3272a588-dd63-413d-968e-6293aec9ec0c",
   "metadata": {},
   "outputs": [],
   "source": [
    "Q4. How do you write and execute a Python script from the command line?\n",
    "\n",
    "Ans: Firstly open the cammand prompt.\n",
    "Type the word python followed by the path to your script file like this: python first_script.py Hello World! \n",
    "Click Enter."
   ]
  },
  {
   "cell_type": "code",
   "execution_count": 2,
   "id": "bfe43c1f-5570-4412-b789-9b43d126ee93",
   "metadata": {},
   "outputs": [
    {
     "name": "stdout",
     "output_type": "stream",
     "text": [
      "[2, 3]\n"
     ]
    }
   ],
   "source": [
    "#Q5. Given a list my_list = [1, 2, 3, 4, 5], write the code to slice the list and obtain the sub-list [2, 3].\n",
    "\n",
    "#Ans: First Answer It not Compatible to Question Please See the second Answer\n",
    "\n",
    "my_list=[1,2,3,4,5]\n",
    "sub_list=[]\n",
    "for i in my_list:\n",
    "    if i==2:\n",
    "        sub_list.append(i)\n",
    "    if i==3:\n",
    "        sub_list.append(i)\n",
    "print(sub_list)"
   ]
  },
  {
   "cell_type": "code",
   "execution_count": 4,
   "id": "640362a7-eceb-48b7-ac4a-9b286d92e039",
   "metadata": {},
   "outputs": [
    {
     "name": "stdout",
     "output_type": "stream",
     "text": [
      "[2, 3]\n"
     ]
    }
   ],
   "source": [
    "#Second Answer:\n",
    "my_list=[1,2,3,4,5]\n",
    "print(my_list[1:3])"
   ]
  },
  {
   "cell_type": "markdown",
   "id": "ce8fa66f-4717-421a-8784-1b3f74955b07",
   "metadata": {},
   "source": [
    "Q6. What is a complex number in mathematics, and how is it represented in Python?\n",
    "\n",
    "Ans: Complex NUmber is represented by x+yj Here x and y represent the values and j is imaginary number."
   ]
  },
  {
   "cell_type": "code",
   "execution_count": 5,
   "id": "bcddba00-ecac-49b6-9724-75de93ff7682",
   "metadata": {},
   "outputs": [
    {
     "name": "stdin",
     "output_type": "stream",
     "text": [
      "Enter the age 25\n"
     ]
    },
    {
     "name": "stdout",
     "output_type": "stream",
     "text": [
      "25\n"
     ]
    }
   ],
   "source": [
    "#Q7. What is the correct way to declare a variable named age and assign the value 25 to it?\n",
    "\n",
    "#Ans: age=25\n",
    "\n",
    "#OR\n",
    "age=input(\"Enter the age\")\n",
    "print(age)"
   ]
  },
  {
   "cell_type": "code",
   "execution_count": null,
   "id": "7d1ae211-4e32-4b1c-aa91-d168201bfdf9",
   "metadata": {},
   "outputs": [],
   "source": [
    "Q8. Declare a variable named price and assign the value 9.99 to it. What data type does this variable \n",
    "belong to?\n",
    "\n",
    "Ans:price=9.99\n",
    "The data type is Float. "
   ]
  },
  {
   "cell_type": "code",
   "execution_count": 6,
   "id": "045e8a30-9c14-41c8-9486-1f699ffafff3",
   "metadata": {},
   "outputs": [
    {
     "name": "stdin",
     "output_type": "stream",
     "text": [
      "Enter the Full Name pk\n"
     ]
    },
    {
     "name": "stdout",
     "output_type": "stream",
     "text": [
      "pk\n"
     ]
    }
   ],
   "source": [
    "#Q9. Create a variable named name and assign your full name to it as a string. How would you print the \n",
    "#value of this variable?\n",
    "\n",
    "#Ans:\n",
    "name=input(\"Enter the Full Name\")\n",
    "print(name)"
   ]
  },
  {
   "cell_type": "code",
   "execution_count": 13,
   "id": "64690365-c477-4a85-8df4-499ec4985cb3",
   "metadata": {},
   "outputs": [
    {
     "data": {
      "text/plain": [
       "' World'"
      ]
     },
     "execution_count": 13,
     "metadata": {},
     "output_type": "execute_result"
    }
   ],
   "source": [
    "#Q10. Given the string \"Hello, World!\", extract the substring \"World\"\n",
    "#Ans: \n",
    "a=\"Hello, World\"\n",
    "a[6:]"
   ]
  },
  {
   "cell_type": "code",
   "execution_count": 15,
   "id": "df616281-2baa-482a-bff6-f03341f21312",
   "metadata": {},
   "outputs": [
    {
     "name": "stdout",
     "output_type": "stream",
     "text": [
      "True\n"
     ]
    }
   ],
   "source": [
    "\"\"\"Q11. Create a variable named \"is_student\" and assign it a boolean value indicating whether you are \n",
    "currently a student or not.\n",
    "\n",
    "Ans:\"\"\"\n",
    "is_student=True\n",
    "print(is_student)\n"
   ]
  },
  {
   "cell_type": "code",
   "execution_count": null,
   "id": "4fbf9bcb-26ea-4203-b5d0-00323f6cb734",
   "metadata": {},
   "outputs": [],
   "source": []
  }
 ],
 "metadata": {
  "kernelspec": {
   "display_name": "Python 3 (ipykernel)",
   "language": "python",
   "name": "python3"
  },
  "language_info": {
   "codemirror_mode": {
    "name": "ipython",
    "version": 3
   },
   "file_extension": ".py",
   "mimetype": "text/x-python",
   "name": "python",
   "nbconvert_exporter": "python",
   "pygments_lexer": "ipython3",
   "version": "3.11.4"
  }
 },
 "nbformat": 4,
 "nbformat_minor": 5
}
