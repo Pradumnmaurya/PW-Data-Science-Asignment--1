{
 "cells": [
  {
   "cell_type": "code",
   "execution_count": 18,
   "id": "6bfb2c55-f589-485f-b5c7-034bd6b1c04e",
   "metadata": {},
   "outputs": [],
   "source": [
    "\"\"\"Q1. Which keyword is used to create a function?  Create a function to return a list of odd numbers in the\n",
    "range of 1 to 25.\n",
    "\n",
    "Ans:def Keyword is used to create a function.\"\"\"\n",
    "\n",
    "#Q1. Create a function to return a list of odd numbers in the range of 1 to 25.\n",
    "def odd_number():\n",
    "    for i in range(25):\n",
    "        if i%2 != 0:\n",
    "            print(i)\n",
    "    "
   ]
  },
  {
   "cell_type": "code",
   "execution_count": 19,
   "id": "dc472768-5186-42d6-9823-04fb6fe60bca",
   "metadata": {},
   "outputs": [
    {
     "name": "stdout",
     "output_type": "stream",
     "text": [
      "1\n",
      "3\n",
      "5\n",
      "7\n",
      "9\n",
      "11\n",
      "13\n",
      "15\n",
      "17\n",
      "19\n",
      "21\n",
      "23\n"
     ]
    }
   ],
   "source": [
    "odd_number()"
   ]
  },
  {
   "cell_type": "code",
   "execution_count": 5,
   "id": "29dadf50-358b-4435-a695-e47dbec5c8a7",
   "metadata": {},
   "outputs": [
    {
     "data": {
      "text/plain": [
       "(25, 568, 4225, 5, 88)"
      ]
     },
     "execution_count": 5,
     "metadata": {},
     "output_type": "execute_result"
    }
   ],
   "source": [
    "'''Q2. Why *args and **kwargs is used in some functions? Create a function each for *args and **kwargs \n",
    "to demonstrate their use.\n",
    "Ans: *args is used for multiple input of argument, here we can use another name rather than args but * is manadatary.\n",
    "**kwargs is used for return Dictionary.\n",
    "'''\n",
    "def abc(*args):\n",
    "    return args\n",
    "\n",
    "abc(25,568,4225,5,88)"
   ]
  },
  {
   "cell_type": "code",
   "execution_count": 6,
   "id": "2471903c-6d6f-4762-9532-0f2653a3ea22",
   "metadata": {},
   "outputs": [
    {
     "data": {
      "text/plain": [
       "{'a': [1, 8, 4, 76, 65, 48], 'b': 'fjdgj', 'c': 4589}"
      ]
     },
     "execution_count": 6,
     "metadata": {},
     "output_type": "execute_result"
    }
   ],
   "source": [
    "def acc(**args):\n",
    "    return args\n",
    "\n",
    "acc(a=[1,8,4,76,65,48],b='fjdgj',c=4589)"
   ]
  },
  {
   "cell_type": "code",
   "execution_count": 20,
   "id": "e63aabdd-c434-427e-9d54-15c0dcfbc763",
   "metadata": {},
   "outputs": [
    {
     "name": "stdout",
     "output_type": "stream",
     "text": [
      "2\n",
      "4\n",
      "6\n",
      "8\n",
      "10\n"
     ]
    }
   ],
   "source": [
    "'''Q3.  What is an iterator in python? Name the method used to initialise the iterator object and the method \n",
    "used for iteration. Use these methods to print the first five elements of the given list [2, 4, 6, 8, 10, 12, 14, \n",
    "16, 18, 20].'''\n",
    "\n",
    "'''Ans : In Python, an iterator is an object that allows you to iterate over collections of data, such as lists, tuples, dictionaries, and sets. \n",
    "Python iterators implement the iterator design pattern, which allows you to traverse a container and access its elements.\n",
    "\n",
    "Itrator - We can use itrator using next().\n",
    "Itrable - We can change in itrator.'''\n",
    "\n",
    "list=[2,4,6,8,10,12,14]\n",
    "def print_element():\n",
    "    for i in list:\n",
    "        yield i\n",
    "\n",
    "fib=print_element()\n",
    "\n",
    "for i in range(5):\n",
    "    print(next(fib))\n",
    "\n"
   ]
  },
  {
   "cell_type": "code",
   "execution_count": null,
   "id": "561df1b0-c2aa-41fb-8168-8a0275c93fd8",
   "metadata": {},
   "outputs": [],
   "source": [
    "Q4.  What is a generator function in python? Why yield keyword is used? Give an example of a generator \n",
    "function.\n",
    "Ans: Generator function gives result one by one. It not take to much space. \n",
    "yield keyword is use for print one by one value.\n",
    "list=[2,4,6,8,10,12,14]\n",
    "def print_element():\n",
    "    for i in list:\n",
    "        yield i\n",
    "\n",
    "fib=print_element()\n",
    "\n",
    "for i in range(5):\n",
    "    print(next(fib))"
   ]
  },
  {
   "cell_type": "code",
   "execution_count": null,
   "id": "a7542e15-c1e7-4dc0-84b2-754684c454ae",
   "metadata": {},
   "outputs": [],
   "source": [
    "Q5. Create a generator function for prime numbers less than 1000. Use the next() method to print the \n",
    "first 20 prime numbers."
   ]
  },
  {
   "cell_type": "code",
   "execution_count": null,
   "id": "457c83c2-0a42-48e3-a296-92daebb905a6",
   "metadata": {},
   "outputs": [],
   "source": [
    "def is_prime(num):\n",
    "    if num < 2:\n",
    "        return False\n",
    "    for i in range(2, int(num ** 0.5) + 1):\n",
    "        if num % i == 0:\n",
    "            return False\n",
    "    return True\n",
    "\n",
    "def prime_generator():\n",
    "    num = 2\n",
    "    while num < 1000:\n",
    "        if is_prime(num):\n",
    "            yield num\n",
    "        num += 1\n",
    "\n",
    "prime_gen = prime_generator()\n",
    "\n",
    "# Print the first 20 prime numbers\n",
    "for _ in range(20):\n",
    "    print(next(prime_gen))\n"
   ]
  },
  {
   "cell_type": "markdown",
   "id": "2a88f1f1-68e5-4cf0-9ab9-fd118273d2d3",
   "metadata": {},
   "source": [
    "Q6. Write a python program to print the first 10 Fibonacci numbers using a while loop.\n",
    "Ans:"
   ]
  },
  {
   "cell_type": "code",
   "execution_count": 1,
   "id": "32ca6f1d-2745-4774-bb0b-92810274b0fc",
   "metadata": {},
   "outputs": [
    {
     "name": "stdout",
     "output_type": "stream",
     "text": [
      "0\n",
      "1\n",
      "1\n",
      "2\n",
      "3\n",
      "5\n",
      "8\n",
      "13\n",
      "21\n",
      "34\n"
     ]
    }
   ],
   "source": [
    "def fibonacci():\n",
    "    a,b =0,1\n",
    "    while True:\n",
    "        yield a\n",
    "        a,b= b, a+b\n",
    "\n",
    "fib=fibonacci()\n",
    "\n",
    "for i in range(10):\n",
    "    print(next(fib))"
   ]
  },
  {
   "cell_type": "markdown",
   "id": "31e1fbb9-34f9-422f-999f-cc5ada5305ee",
   "metadata": {},
   "source": [
    "["
   ]
  },
  {
   "cell_type": "code",
   "execution_count": 5,
   "id": "18d99ee0-b226-4ba7-ac4f-7b6f4a798eba",
   "metadata": {},
   "outputs": [
    {
     "name": "stdout",
     "output_type": "stream",
     "text": [
      "['p', 'w', 's', 'k', 'i', 'l', 'l', 's']\n"
     ]
    }
   ],
   "source": [
    "a='pwskills'\n",
    "b=[]\n",
    "for i in a:\n",
    "    b.append(i)\n",
    "print (b)"
   ]
  },
  {
   "cell_type": "markdown",
   "id": "1c3d4b21-ba3f-4539-9da3-c9c61afb9edf",
   "metadata": {},
   "source": [
    "Q8. Write a python program to check whether a given number is Palindrome or not using a while loop."
   ]
  },
  {
   "cell_type": "code",
   "execution_count": 9,
   "id": "288a0344-1759-402d-a598-ed5071e25225",
   "metadata": {},
   "outputs": [
    {
     "name": "stdin",
     "output_type": "stream",
     "text": [
      "Enter number: 16461\n"
     ]
    },
    {
     "name": "stdout",
     "output_type": "stream",
     "text": [
      "The number is a palindrome!\n"
     ]
    }
   ],
   "source": [
    "n=int(input(\"Enter number:\"))\n",
    "temp=n\n",
    "rev=0\n",
    "while(n>0):\n",
    "    dig=n%10\n",
    "    rev=rev*10+dig\n",
    "    n=n//10\n",
    "if(temp==rev):\n",
    "    print(\"The number is a palindrome!\")\n",
    "else:\n",
    "    print(\"The number isn't a palindrome!\")"
   ]
  },
  {
   "cell_type": "markdown",
   "id": "19bd8d62-a067-457f-b765-e99024a11a01",
   "metadata": {},
   "source": [
    "Q9. Write a code to print odd numbers from 1 to 100 using list comprehension.\r\n",
    "\r\n",
    "Note: Use a list comprehension to create a list from 1 to 100 and use another List comprehension to filter \r\n",
    "out odd numbers."
   ]
  },
  {
   "cell_type": "code",
   "execution_count": 1,
   "id": "e59f061d-e1ee-4ccd-919e-667333bc0868",
   "metadata": {},
   "outputs": [
    {
     "name": "stdout",
     "output_type": "stream",
     "text": [
      "[1, 3, 5, 7, 9, 11, 13, 15, 17, 19, 21, 23, 25, 27, 29, 31, 33, 35, 37, 39, 41, 43, 45, 47, 49, 51, 53, 55, 57, 59, 61, 63, 65, 67, 69, 71, 73, 75, 77, 79, 81, 83, 85, 87, 89, 91, 93, 95, 97, 99]\n"
     ]
    }
   ],
   "source": [
    "numbers = [num for num in range(1, 101)]\n",
    "\n",
    "# List comprehension to filter out odd numbers\n",
    "odd_numbers = [num for num in numbers if num % 2 != 0]\n",
    "\n",
    "\n",
    "print(odd_numbers)\n"
   ]
  },
  {
   "cell_type": "code",
   "execution_count": null,
   "id": "81f91fe8-615d-4bf6-8cd5-67a29ce1c96a",
   "metadata": {},
   "outputs": [],
   "source": []
  }
 ],
 "metadata": {
  "kernelspec": {
   "display_name": "Python 3 (ipykernel)",
   "language": "python",
   "name": "python3"
  },
  "language_info": {
   "codemirror_mode": {
    "name": "ipython",
    "version": 3
   },
   "file_extension": ".py",
   "mimetype": "text/x-python",
   "name": "python",
   "nbconvert_exporter": "python",
   "pygments_lexer": "ipython3",
   "version": "3.11.4"
  }
 },
 "nbformat": 4,
 "nbformat_minor": 5
}
